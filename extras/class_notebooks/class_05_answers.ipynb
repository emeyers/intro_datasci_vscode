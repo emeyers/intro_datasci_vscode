{
 "cells": [
  {
   "cell_type": "markdown",
   "metadata": {},
   "source": [
    "# Class 5: Descriptive statistics and plots continued\n",
    "\n",
    "In this notebook we continue our discussion of descriptive statistics and plots to visualize data."
   ]
  },
  {
   "cell_type": "code",
   "execution_count": 16,
   "metadata": {},
   "outputs": [],
   "source": [
    "import YData\n",
    "\n",
    "# YData.download.download_class_code(5)   # get class 4 code    \n",
    "\n",
    "# YData.download.download_class_code(5, True) # get the code with the answers "
   ]
  },
  {
   "cell_type": "markdown",
   "metadata": {},
   "source": [
    "There are also similar functions to download the homework:"
   ]
  },
  {
   "cell_type": "code",
   "execution_count": 17,
   "metadata": {},
   "outputs": [],
   "source": [
    "# YData.download_homework(2)  # downloads the second homework "
   ]
  },
  {
   "cell_type": "markdown",
   "metadata": {},
   "source": [
    "If you are using google colabs, you should also uncomment and run the code below"
   ]
  },
  {
   "cell_type": "code",
   "execution_count": 18,
   "metadata": {},
   "outputs": [],
   "source": [
    "# !pip install https://github.com/emeyers/YData_package/tarball/master\n",
    "# from google.colab import drive\n",
    "# drive.mount('/content/drive')"
   ]
  },
  {
   "cell_type": "markdown",
   "metadata": {},
   "source": [
    "# Descriptive statistics and plot"
   ]
  },
  {
   "cell_type": "markdown",
   "metadata": {},
   "source": [
    "## Motivation: The Bechdel Test \n",
    "\n",
    "The dataset we will use has information about movies, including whether each movie passed the [Bechdel test](https://en.wikipedia.org/wiki/Bechdel_test). \n",
    "\n",
    "The data comes from fivethirtyeight. For more information see: \n",
    "- https://fivethirtyeight.com/features/the-dollar-and-cents-case-against-hollywoods-exclusion-of-women/\n",
    "- https://github.com/fivethirtyeight/data/tree/master/bechdel\n",
    "- https://github.com/rfordatascience/tidytuesday/blob/master/data/2021/2021-03-09/readme.md\n",
    "\n",
    "The code below loads the data and shows some of the data as a \"pandas DataFrame\" (we will discuss these DataFrames in a few weeks). \n"
   ]
  },
  {
   "cell_type": "code",
   "execution_count": 19,
   "metadata": {},
   "outputs": [
    {
     "name": "stdout",
     "output_type": "stream",
     "text": [
      "The file `movies.csv` already exists.\n",
      "If you would like to download a new copy of the file, please rename the existing copy of the file.\n"
     ]
    }
   ],
   "source": [
    "import YData\n",
    "\n",
    "YData.download_data(\"movies.csv\")\n"
   ]
  },
  {
   "cell_type": "code",
   "execution_count": 20,
   "metadata": {},
   "outputs": [
    {
     "data": {
      "text/html": [
       "<div>\n",
       "<style scoped>\n",
       "    .dataframe tbody tr th:only-of-type {\n",
       "        vertical-align: middle;\n",
       "    }\n",
       "\n",
       "    .dataframe tbody tr th {\n",
       "        vertical-align: top;\n",
       "    }\n",
       "\n",
       "    .dataframe thead th {\n",
       "        text-align: right;\n",
       "    }\n",
       "</style>\n",
       "<table border=\"1\" class=\"dataframe\">\n",
       "  <thead>\n",
       "    <tr style=\"text-align: right;\">\n",
       "      <th></th>\n",
       "      <th>year</th>\n",
       "      <th>imdb</th>\n",
       "      <th>title</th>\n",
       "      <th>clean_test</th>\n",
       "      <th>binary</th>\n",
       "      <th>budget</th>\n",
       "      <th>domgross</th>\n",
       "      <th>budget_2013</th>\n",
       "      <th>domgross_2013</th>\n",
       "      <th>decade_code</th>\n",
       "      <th>imdb_id</th>\n",
       "      <th>rated</th>\n",
       "      <th>imdb_rating</th>\n",
       "      <th>runtime</th>\n",
       "      <th>imdb_votes</th>\n",
       "    </tr>\n",
       "  </thead>\n",
       "  <tbody>\n",
       "    <tr>\n",
       "      <th>0</th>\n",
       "      <td>2013</td>\n",
       "      <td>tt1711425</td>\n",
       "      <td>21 &amp;amp; Over</td>\n",
       "      <td>notalk</td>\n",
       "      <td>FAIL</td>\n",
       "      <td>13000000</td>\n",
       "      <td>25682380.0</td>\n",
       "      <td>13000000</td>\n",
       "      <td>25682380.0</td>\n",
       "      <td>1.0</td>\n",
       "      <td>1711425</td>\n",
       "      <td>NaN</td>\n",
       "      <td>NaN</td>\n",
       "      <td>NaN</td>\n",
       "      <td>NaN</td>\n",
       "    </tr>\n",
       "    <tr>\n",
       "      <th>1</th>\n",
       "      <td>2012</td>\n",
       "      <td>tt1343727</td>\n",
       "      <td>Dredd 3D</td>\n",
       "      <td>ok</td>\n",
       "      <td>PASS</td>\n",
       "      <td>45000000</td>\n",
       "      <td>13414714.0</td>\n",
       "      <td>45658735</td>\n",
       "      <td>13611086.0</td>\n",
       "      <td>1.0</td>\n",
       "      <td>1343727</td>\n",
       "      <td>NaN</td>\n",
       "      <td>NaN</td>\n",
       "      <td>NaN</td>\n",
       "      <td>NaN</td>\n",
       "    </tr>\n",
       "    <tr>\n",
       "      <th>2</th>\n",
       "      <td>2013</td>\n",
       "      <td>tt2024544</td>\n",
       "      <td>12 Years a Slave</td>\n",
       "      <td>notalk</td>\n",
       "      <td>FAIL</td>\n",
       "      <td>20000000</td>\n",
       "      <td>53107035.0</td>\n",
       "      <td>20000000</td>\n",
       "      <td>53107035.0</td>\n",
       "      <td>1.0</td>\n",
       "      <td>2024544</td>\n",
       "      <td>R</td>\n",
       "      <td>8.3</td>\n",
       "      <td>134 min</td>\n",
       "      <td>143,446</td>\n",
       "    </tr>\n",
       "    <tr>\n",
       "      <th>3</th>\n",
       "      <td>2013</td>\n",
       "      <td>tt1272878</td>\n",
       "      <td>2 Guns</td>\n",
       "      <td>notalk</td>\n",
       "      <td>FAIL</td>\n",
       "      <td>61000000</td>\n",
       "      <td>75612460.0</td>\n",
       "      <td>61000000</td>\n",
       "      <td>75612460.0</td>\n",
       "      <td>1.0</td>\n",
       "      <td>1272878</td>\n",
       "      <td>R</td>\n",
       "      <td>6.8</td>\n",
       "      <td>109 min</td>\n",
       "      <td>87,301</td>\n",
       "    </tr>\n",
       "    <tr>\n",
       "      <th>4</th>\n",
       "      <td>2013</td>\n",
       "      <td>tt0453562</td>\n",
       "      <td>42</td>\n",
       "      <td>men</td>\n",
       "      <td>FAIL</td>\n",
       "      <td>40000000</td>\n",
       "      <td>95020213.0</td>\n",
       "      <td>40000000</td>\n",
       "      <td>95020213.0</td>\n",
       "      <td>1.0</td>\n",
       "      <td>453562</td>\n",
       "      <td>PG-13</td>\n",
       "      <td>7.6</td>\n",
       "      <td>128 min</td>\n",
       "      <td>43,608</td>\n",
       "    </tr>\n",
       "  </tbody>\n",
       "</table>\n",
       "</div>"
      ],
      "text/plain": [
       "   year       imdb             title clean_test binary    budget    domgross  \\\n",
       "0  2013  tt1711425     21 &amp; Over     notalk   FAIL  13000000  25682380.0   \n",
       "1  2012  tt1343727          Dredd 3D         ok   PASS  45000000  13414714.0   \n",
       "2  2013  tt2024544  12 Years a Slave     notalk   FAIL  20000000  53107035.0   \n",
       "3  2013  tt1272878            2 Guns     notalk   FAIL  61000000  75612460.0   \n",
       "4  2013  tt0453562                42        men   FAIL  40000000  95020213.0   \n",
       "\n",
       "   budget_2013  domgross_2013  decade_code  imdb_id  rated  imdb_rating  \\\n",
       "0     13000000     25682380.0          1.0  1711425    NaN          NaN   \n",
       "1     45658735     13611086.0          1.0  1343727    NaN          NaN   \n",
       "2     20000000     53107035.0          1.0  2024544      R          8.3   \n",
       "3     61000000     75612460.0          1.0  1272878      R          6.8   \n",
       "4     40000000     95020213.0          1.0   453562  PG-13          7.6   \n",
       "\n",
       "   runtime imdb_votes  \n",
       "0      NaN        NaN  \n",
       "1      NaN        NaN  \n",
       "2  134 min    143,446  \n",
       "3  109 min     87,301  \n",
       "4  128 min     43,608  "
      ]
     },
     "execution_count": 20,
     "metadata": {},
     "output_type": "execute_result"
    }
   ],
   "source": [
    "import pandas as pd\n",
    "\n",
    "movies = pd.read_csv(\"movies.csv\")\n",
    "col_names_to_keep = ['year', 'imdb', 'title', 'clean_test', 'binary', 'budget',\n",
    "       'domgross', 'budget_2013', 'domgross_2013', 'decade_code', 'imdb_id',\n",
    "       'rated', 'imdb_rating', 'runtime',  'imdb_votes']\n",
    "movies =   movies[col_names_to_keep]\n",
    "\n",
    "movies.dropna(axis = 0, how = 'any', inplace = True, subset=col_names_to_keep[0:9])\n",
    "\n",
    "movies.head()\n"
   ]
  },
  {
   "cell_type": "markdown",
   "metadata": {},
   "source": [
    "## Quantitative data: statistics and plots\n",
    "\n",
    "Quantitative data is numeric data (e.g., ints and floats).\n",
    "- We can visualize quantitative data using histograms and boxplots. \n",
    "- The main statistics we use to sumarize the central tendency of quantitative data are the mean and the median.  \n",
    "\n",
    "Let's explore this by looking at data on movies. In particular, we will look at the following variables:\n",
    "- `domgross_2013`: The amount of money a movie made at the box office (in 2013 inflation adjusted dollars)\n",
    "- `domgross_2013`: The amount of money spent making the movie (in 2013 inflation adjusted dollars)\n",
    "- `year`: The year the movie was made. \n"
   ]
  },
  {
   "cell_type": "code",
   "execution_count": 21,
   "metadata": {},
   "outputs": [],
   "source": [
    "# get these later with the quantitative data section\n",
    "domgross_2013 = movies[\"domgross_2013\"].to_list()\n",
    "budget_2013 = movies[\"budget_2013\"].to_list() \n",
    "year = movies[\"year\"].to_list()"
   ]
  },
  {
   "cell_type": "code",
   "execution_count": 22,
   "metadata": {},
   "outputs": [
    {
     "data": {
      "image/png": "[encoded data removed]",
      "text/plain": [
       "<Figure size 640x480 with 1 Axes>"
      ]
     },
     "metadata": {},
     "output_type": "display_data"
    }
   ],
   "source": [
    "import matplotlib.pyplot as plt\n",
    "\n",
    "# plot a histogram of movie revenues\n",
    "plt.hist(domgross_2013, edgecolor = \"k\", bins = 40);\n",
    "plt.ylabel(\"Count\")\n",
    "plt.xlabel(\"Revenue ($)\");"
   ]
  },
  {
   "cell_type": "code",
   "execution_count": 23,
   "metadata": {},
   "outputs": [
    {
     "data": {
      "text/plain": [
       "'The average revenue of movies is 95,174,784'"
      ]
     },
     "execution_count": 23,
     "metadata": {},
     "output_type": "execute_result"
    }
   ],
   "source": [
    "# What is the average (mean) movie revenue?\n",
    "tot_revenue = sum(domgross_2013)\n",
    "ave_revenue = tot_revenue/len(domgross_2013)\n",
    "f\"The average revenue of movies is {ave_revenue:,.0f}\""
   ]
  },
  {
   "cell_type": "code",
   "execution_count": 24,
   "metadata": {},
   "outputs": [],
   "source": [
    "# we can also use the statistics module to calculate statistics \n",
    "import statistics\n"
   ]
  },
  {
   "cell_type": "code",
   "execution_count": 25,
   "metadata": {},
   "outputs": [
    {
     "data": {
      "text/plain": [
       "95174783.57601352"
      ]
     },
     "execution_count": 25,
     "metadata": {},
     "output_type": "execute_result"
    }
   ],
   "source": [
    "# get the mean using the statistics package\n",
    "statistics.mean(domgross_2013)\n"
   ]
  },
  {
   "cell_type": "code",
   "execution_count": 26,
   "metadata": {},
   "outputs": [
    {
     "data": {
      "text/plain": [
       "55993640.5"
      ]
     },
     "execution_count": 26,
     "metadata": {},
     "output_type": "execute_result"
    }
   ],
   "source": [
    "# get the median using the statistics package\n",
    "statistics.median(domgross_2013)\n"
   ]
  },
  {
   "cell_type": "code",
   "execution_count": 40,
   "metadata": {},
   "outputs": [
    {
     "name": "stdout",
     "output_type": "stream",
     "text": [
      "[899.0, 4183.0, 4989.0, 9824.0, 16853.0]\n",
      "1776\n",
      "888\n",
      "55993640.5\n"
     ]
    }
   ],
   "source": [
    "# Sorting the original data \"in place\" using the list's .sort() method.\n",
    "# This modifies the original domgross_2013 list so we should create a copy to save the unsorted list.\n",
    "\n",
    "# create a copy of the data\n",
    "domgross_2013_copy = domgross_2013.copy()\n",
    "\n",
    "# sort the data \"in-place\" which modifies the original list\n",
    "domgross_2013.sort()\n",
    "\n",
    "# print the first 5 values of the sorted data\n",
    "print(domgross_2013[0:5])\n",
    "\n",
    "# print the length of the data\n",
    "print(len(domgross_2013))\n",
    "\n",
    "# get the half way index\n",
    "half_index = int(len(domgross_2013)/2)\n",
    "print(half_index)\n",
    "\n",
    "# calculate the median, which is the average of the two middle values since there is an even number of data points\n",
    "the_median = (domgross_2013[half_index -1] + domgross_2013[half_index])/2\n",
    "print(the_median)\n",
    "\n",
    "# Restore the original domgross_2013 list\n",
    "domgross_2013 = domgross_2013_copy\n",
    "\n",
    "# domgross_2013 = movies[\"domgross_2013\"].to_list() # an alternative way to restore the original domgross_2013 list\n"
   ]
  },
  {
   "cell_type": "code",
   "execution_count": 41,
   "metadata": {},
   "outputs": [
    {
     "name": "stdout",
     "output_type": "stream",
     "text": [
      "[899.0, 4183.0, 4989.0, 9824.0, 16853.0]\n",
      "888\n",
      "55993640.5\n"
     ]
    }
   ],
   "source": [
    "# A second way to sort the data which returns a new sorted list rather than modifying the original domgross_2013 list\n",
    "\n",
    "# sort the data and return a new list of sorted values\n",
    "sorted_domgross = sorted(domgross_2013)\n",
    "\n",
    "# print the first 5 values of the sorted data\n",
    "print(sorted_domgross[0:5])\n",
    "\n",
    "# get the half way index\n",
    "half_index = int(len(sorted_domgross)/2)\n",
    "print(half_index)\n",
    "\n",
    "# calculate the median, which is the average of the two middle values since there is an even number of data points\n",
    "the_median = (sorted_domgross[half_index -1] + sorted_domgross[half_index])/2\n",
    "print(the_median)"
   ]
  },
  {
   "cell_type": "code",
   "execution_count": 168,
   "metadata": {},
   "outputs": [
    {
     "data": {
      "image/png": "[encoded data removed]",
      "text/plain": [
       "<Figure size 640x480 with 1 Axes>"
      ]
     },
     "metadata": {},
     "output_type": "display_data"
    }
   ],
   "source": [
    "# plot the mean and the median on top of a histogram of salaries\n",
    "\n",
    "plt.hist(domgross_2013, edgecolor = \"k\");\n",
    "plt.ylabel(\"Count\")\n",
    "plt.xlabel(\"Revenue ($)\");\n",
    "\n",
    "plt.axvline(statistics.mean(domgross_2013), color='r', \n",
    "            linestyle='dashed', linewidth=1, label = \"Mean\");\n",
    "\n",
    "plt.axvline(statistics.median(domgross_2013), color='b', \n",
    "            linestyle='dashed', linewidth=1, label = \"Median\");\n",
    "\n",
    "plt.legend();\n"
   ]
  },
  {
   "cell_type": "markdown",
   "metadata": {},
   "source": [
    "### Why is the mean larger than the median? \n"
   ]
  },
  {
   "cell_type": "code",
   "execution_count": 169,
   "metadata": {},
   "outputs": [],
   "source": [
    "# Some fake data\n",
    "my_data = [2, 3, 5, 7, 100000]\n"
   ]
  },
  {
   "cell_type": "code",
   "execution_count": 170,
   "metadata": {},
   "outputs": [
    {
     "data": {
      "text/plain": [
       "20003.4"
      ]
     },
     "execution_count": 170,
     "metadata": {},
     "output_type": "execute_result"
    }
   ],
   "source": [
    "# Get the mean \n",
    "statistics.mean(my_data)\n"
   ]
  },
  {
   "cell_type": "code",
   "execution_count": 171,
   "metadata": {},
   "outputs": [
    {
     "data": {
      "text/plain": [
       "5"
      ]
     },
     "execution_count": 171,
     "metadata": {},
     "output_type": "execute_result"
    }
   ],
   "source": [
    "# Get the median\n",
    "statistics.median(my_data)\n"
   ]
  },
  {
   "cell_type": "markdown",
   "metadata": {},
   "source": [
    "## Outliers\n",
    "\n",
    "Outliers are values that are much larger or smaller than the rest of the data. When an outlier occurs in a dataset we should investigate what might be causing the outlier.\n",
    "- If it is due to a mistake (e.g., a data entry error) we can remove the outlier from our data.\n",
    "- If it is a real value, we should understand how the value will impact our conclusions. \n",
    "\n",
    "Let's see if we can find the outlier in our movie revenue data. In particular, let's do the following:\n",
    "\n",
    "1. We will use the `max()` to find the movie that had the highest revenue in the `domgross_2013` list\n",
    "2. We will then use the `list.index()` method to find the index where this value occurs in the `domgross_2013` list\n",
    "3. We can the use this index in the `title` list to get the movie title that has the maximum revenue\n",
    "\n"
   ]
  },
  {
   "cell_type": "code",
   "execution_count": 172,
   "metadata": {},
   "outputs": [
    {
     "name": "stdout",
     "output_type": "stream",
     "text": [
      "1742\n",
      "Star Wars\n"
     ]
    }
   ],
   "source": [
    "# Movie that had the highest revenue\n",
    "max_revenue = max(domgross_2013)\n",
    "\n",
    "# The index of where the highest revenue appears in the domgross_2013 list\n",
    "index_max_revenue = domgross_2013.index(max_revenue)\n",
    "\n",
    "# Print the index\n",
    "print(index_max_revenue)\n",
    "\n",
    "# Print the title of the movie at the corresponding index\n",
    "print(title[index_max_revenue])\n",
    "\n"
   ]
  },
  {
   "cell_type": "markdown",
   "metadata": {},
   "source": [
    "## Meassures of spread: standard deviation and z-scores\n",
    "\n",
    "Above we looked a measures of central, namely the mean and the median. Let's now look at statistics that measure how widely data is spread away from the mean. In particular, we will look at a commonly used measure called *the standard deviation* which is defined as:\n",
    "\n",
    "$ s = \\frac{1}{n-1}\\sum_{i =1}^n (x_i - \\bar{x})^2$\n",
    "\n",
    "Where:\n",
    "- $n$ is the number of data points you have\n",
    "- $x_i$ is the $i^{th}$ data point\n",
    "- $\\bar{x}$ is the mean of the data\n",
    "\n",
    "In Python, we can use the `stdev()` function from the statistics module to get the standard deviation\n",
    "\n"
   ]
  },
  {
   "cell_type": "code",
   "execution_count": 173,
   "metadata": {},
   "outputs": [
    {
     "data": {
      "text/plain": [
       "125965348.89270209"
      ]
     },
     "execution_count": 173,
     "metadata": {},
     "output_type": "execute_result"
    }
   ],
   "source": [
    "# Get the standard deviation of movie revenue\n",
    "\n",
    "statistics.stdev(domgross_2013)"
   ]
  },
  {
   "cell_type": "markdown",
   "metadata": {},
   "source": [
    "## z-scores \n",
    "\n",
    "Z-scores are used assess how many standard deviations a value is above or below the mean. Z-scores are defined as:\n",
    "\n",
    "$z = \\frac{x_i - \\bar{x}}{s_x}$\n",
    "\n",
    "Where:\n",
    "- $\\bar{x}$ is the mean of the data\n",
    "- $x_s$ is the standard deviation of the data\n"
   ]
  },
  {
   "cell_type": "code",
   "execution_count": 174,
   "metadata": {},
   "outputs": [
    {
     "name": "stdout",
     "output_type": "stream",
     "text": [
      "Shooting % z-score: 0.868\n",
      "Points  z-score: 2.698\n",
      "Assists  z-score: 1.965\n",
      "Steals  z-score: 1.771\n"
     ]
    }
   ],
   "source": [
    "# Calculate LeBron James' z-scores\n",
    "\n",
    "z_FGPct = (0.510  -  0.464)/0.053\n",
    "z_Points = (2111 - \t994)/414\n",
    "z_Assists\t =  \t(554 - 220)/170\t\t\n",
    "z_Steals\t =\t(124 -  68.2)/31.5\n",
    "\n",
    "print(f\"Shooting % z-score: {z_FGPct:.3f}\")\n",
    "print(f\"Points  z-score: {z_Points:.3f}\")\n",
    "print(f\"Assists  z-score: {z_Assists:.3f}\")\n",
    "print(f\"Steals  z-score: {z_Steals:.3f}\")\n"
   ]
  },
  {
   "cell_type": "code",
   "execution_count": 175,
   "metadata": {},
   "outputs": [
    {
     "name": "stdout",
     "output_type": "stream",
     "text": [
      "1771682790.0\n"
     ]
    },
    {
     "data": {
      "text/plain": [
       "13.309279267364586"
      ]
     },
     "execution_count": 175,
     "metadata": {},
     "output_type": "execute_result"
    }
   ],
   "source": [
    "# calculate z-sccore for star wars revenue (domgross_2013)\n",
    "\n",
    "# Revenue of star wars\n",
    "starwars_value = max(domgross_2013)\n",
    "\n",
    "print(starwars_value)\n",
    "\n",
    "# mean of all movies\n",
    "movie_mean = statistics.mean(domgross_2013)\n",
    "\n",
    "# standard deviation of all movies\n",
    "movie_stdev = statistics.stdev(domgross_2013)\n",
    "\n",
    "# star wars z-score\n",
    "zscore_starwars = (starwars_value - movie_mean)/movie_stdev\n",
    "\n",
    "zscore_starwars"
   ]
  },
  {
   "cell_type": "markdown",
   "metadata": {},
   "source": [
    "## Visualizing two quantitative variables\n",
    "\n",
    "Let's create a scatter plot to visualize the relationship between a movies budget and the movie revenue made. \n",
    "\n",
    "Based on looking at this plot:\n",
    "1. Does it appear that movies with larger budgets make more money at the box office?\n",
    "2. What do you think the correlation is between buget and revenue? \n"
   ]
  },
  {
   "cell_type": "code",
   "execution_count": 176,
   "metadata": {},
   "outputs": [
    {
     "data": {
      "image/png": "[encoded data removed]",
      "text/plain": [
       "<Figure size 640x480 with 1 Axes>"
      ]
     },
     "metadata": {},
     "output_type": "display_data"
    }
   ],
   "source": [
    "# plot revenue as a function of budget\n",
    "\n",
    "plt.plot(budget_2013, domgross_2013, '.');\n",
    "plt.ylabel(\"Budget ($)\");\n",
    "plt.xlabel(\"Revenue ($)\");"
   ]
  },
  {
   "cell_type": "code",
   "execution_count": 177,
   "metadata": {},
   "outputs": [
    {
     "data": {
      "text/plain": [
       "0.46126114596466505"
      ]
     },
     "execution_count": 177,
     "metadata": {},
     "output_type": "execute_result"
    }
   ],
   "source": [
    "# Calculate the correlation \n",
    "\n",
    "statistics.correlation(budget_2013, domgross_2013)"
   ]
  }
 ],
 "metadata": {
  "anaconda-cloud": {},
  "kernelspec": {
   "display_name": "Python [conda env:ydata123_env_2024a] *",
   "language": "python",
   "name": "conda-env-ydata123_env_2024a-py"
  },
  "language_info": {
   "codemirror_mode": {
    "name": "ipython",
    "version": 3
   },
   "file_extension": ".py",
   "mimetype": "text/x-python",
   "name": "python",
   "nbconvert_exporter": "python",
   "pygments_lexer": "ipython3",
   "version": "3.12.4"
  }
 },
 "nbformat": 4,
 "nbformat_minor": 4
}
