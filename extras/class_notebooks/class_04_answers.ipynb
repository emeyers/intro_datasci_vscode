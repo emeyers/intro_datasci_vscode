{
 "cells": [
  {
   "cell_type": "markdown",
   "metadata": {},
   "source": [
    "# Class 4: Descriptive statistics and plots\n",
    "\n",
    "In this notebook we will learn about comparisons and learn a few additinoal string methods. We will then start discussing descriptive statistics and plots to visualize data."
   ]
  },
  {
   "cell_type": "code",
   "execution_count": 117,
   "metadata": {},
   "outputs": [],
   "source": [
    "import YData\n",
    "\n",
    "# YData.download.download_class_code(4)   # get class 4 code    \n",
    "\n",
    "# YData.download.download_class_code(4, True) # get the code with the answers "
   ]
  },
  {
   "cell_type": "markdown",
   "metadata": {},
   "source": [
    "There are also similar functions to download the homework:"
   ]
  },
  {
   "cell_type": "code",
   "execution_count": 118,
   "metadata": {},
   "outputs": [],
   "source": [
    "# YData.download_homework(2)  # downloads the second homework "
   ]
  },
  {
   "cell_type": "markdown",
   "metadata": {},
   "source": [
    "If you are using colabs, you should install polars and the YData packages by uncommenting and running the code below."
   ]
  },
  {
   "cell_type": "code",
   "execution_count": 119,
   "metadata": {},
   "outputs": [],
   "source": [
    "# !pip install https://github.com/emeyers/YData_package/tarball/master"
   ]
  },
  {
   "cell_type": "markdown",
   "metadata": {},
   "source": [
    "If you are using google colabs, you should also uncomment and run the code below to mount the your google drive"
   ]
  },
  {
   "cell_type": "code",
   "execution_count": 120,
   "metadata": {},
   "outputs": [],
   "source": [
    "# from google.colab import drive\n",
    "# drive.mount('/content/drive')"
   ]
  },
  {
   "cell_type": "markdown",
   "metadata": {},
   "source": [
    "## Warm-up exercise: List and string manipulation\n",
    "\n",
    "Below is a list called `nested_list`. Please write code to do the following to this list:\n",
    "\n",
    "1. Extract the inner nested list (i.e., the list `[\"c\", \"c\", \"d\", \"cd\"]` and save it to the name `inner_string_list`\n",
    "2. Write a line of code to count how many times the string \"c\" occurs the `inner_string_list`. \n"
   ]
  },
  {
   "cell_type": "code",
   "execution_count": 121,
   "metadata": {},
   "outputs": [
    {
     "data": {
      "text/plain": [
       "2"
      ]
     },
     "execution_count": 121,
     "metadata": {},
     "output_type": "execute_result"
    }
   ],
   "source": [
    "nested_list = [\"a\", \"b\", \"c\", \"d\", \"e\", [\"c\", \"c\", \"d\", \"cd\"]]\n",
    "\n",
    "# Extract the nested list\n",
    "inner_string_list = nested_list[5]\n",
    "\n",
    "# Count the number of c's\n",
    "inner_string_list.count(\"c\")\n"
   ]
  },
  {
   "cell_type": "markdown",
   "metadata": {},
   "source": [
    "## Comparisons\n",
    "\n",
    "We can do simple mathematical and string comparisons in Python which return Boolean values."
   ]
  },
  {
   "cell_type": "code",
   "execution_count": 122,
   "metadata": {},
   "outputs": [
    {
     "data": {
      "text/plain": [
       "True"
      ]
     },
     "execution_count": 122,
     "metadata": {},
     "output_type": "execute_result"
    }
   ],
   "source": [
    "# The Boolean True\n",
    "True"
   ]
  },
  {
   "cell_type": "code",
   "execution_count": 123,
   "metadata": {},
   "outputs": [],
   "source": [
    "# The Boolean False"
   ]
  },
  {
   "cell_type": "code",
   "execution_count": 124,
   "metadata": {},
   "outputs": [
    {
     "data": {
      "text/plain": [
       "False"
      ]
     },
     "execution_count": 124,
     "metadata": {},
     "output_type": "execute_result"
    }
   ],
   "source": [
    "False"
   ]
  },
  {
   "cell_type": "code",
   "execution_count": 125,
   "metadata": {},
   "outputs": [
    {
     "data": {
      "text/plain": [
       "2"
      ]
     },
     "execution_count": 125,
     "metadata": {},
     "output_type": "execute_result"
    }
   ],
   "source": [
    "# True is equal to 1 and Fase is equal to 0\n",
    "\n",
    "True + True + False\n"
   ]
  },
  {
   "cell_type": "code",
   "execution_count": 126,
   "metadata": {},
   "outputs": [
    {
     "data": {
      "text/plain": [
       "True"
      ]
     },
     "execution_count": 126,
     "metadata": {},
     "output_type": "execute_result"
    }
   ],
   "source": [
    "# basic math comparison\n",
    "5 > 2"
   ]
  },
  {
   "cell_type": "code",
   "execution_count": 127,
   "metadata": {},
   "outputs": [
    {
     "data": {
      "text/plain": [
       "bool"
      ]
     },
     "execution_count": 127,
     "metadata": {},
     "output_type": "execute_result"
    }
   ],
   "source": [
    "# checking the type of a basic math comparison\n",
    "type(5 > 2)"
   ]
  },
  {
   "cell_type": "code",
   "execution_count": 128,
   "metadata": {},
   "outputs": [
    {
     "data": {
      "text/plain": [
       "False"
      ]
     },
     "execution_count": 128,
     "metadata": {},
     "output_type": "execute_result"
    }
   ],
   "source": [
    "# another basic math comparison\n",
    "5 < 2"
   ]
  },
  {
   "cell_type": "code",
   "execution_count": 129,
   "metadata": {},
   "outputs": [
    {
     "data": {
      "text/plain": [
       "True"
      ]
     },
     "execution_count": 129,
     "metadata": {},
     "output_type": "execute_result"
    }
   ],
   "source": [
    "# We use == to compare whether two items are equal (not 5 = 5)\n",
    "5 == 5"
   ]
  },
  {
   "cell_type": "code",
   "execution_count": 130,
   "metadata": {},
   "outputs": [],
   "source": [
    "x = 20\n",
    "y = 7"
   ]
  },
  {
   "cell_type": "code",
   "execution_count": 131,
   "metadata": {},
   "outputs": [
    {
     "data": {
      "text/plain": [
       "True"
      ]
     },
     "execution_count": 131,
     "metadata": {},
     "output_type": "execute_result"
    }
   ],
   "source": [
    "# we can compare whether a value is between two values\n",
    "10 < x < 21"
   ]
  },
  {
   "cell_type": "code",
   "execution_count": 132,
   "metadata": {},
   "outputs": [
    {
     "data": {
      "text/plain": [
       "True"
      ]
     },
     "execution_count": 132,
     "metadata": {},
     "output_type": "execute_result"
    }
   ],
   "source": [
    "# we can also do mathematical operations between logical comparisons\n",
    "12 < x-y < 18"
   ]
  },
  {
   "cell_type": "code",
   "execution_count": 133,
   "metadata": {},
   "outputs": [
    {
     "data": {
      "text/plain": [
       "True"
      ]
     },
     "execution_count": 133,
     "metadata": {},
     "output_type": "execute_result"
    }
   ],
   "source": [
    "# we can use the `and` keyword to combine multiple logical statements \n",
    "x > 10 and y > 5"
   ]
  },
  {
   "cell_type": "code",
   "execution_count": 134,
   "metadata": {},
   "outputs": [
    {
     "data": {
      "text/plain": [
       "True"
      ]
     },
     "execution_count": 134,
     "metadata": {},
     "output_type": "execute_result"
    }
   ],
   "source": [
    "# we can also use the `or` keyword to combine multiple logical statements \n",
    "x > 10 or y > 5"
   ]
  },
  {
   "cell_type": "code",
   "execution_count": 135,
   "metadata": {},
   "outputs": [
    {
     "data": {
      "text/plain": [
       "True"
      ]
     },
     "execution_count": 135,
     "metadata": {},
     "output_type": "execute_result"
    }
   ],
   "source": [
    "# We can also compare strings\n",
    "\"my string\" == \"my string\""
   ]
  },
  {
   "cell_type": "code",
   "execution_count": 136,
   "metadata": {},
   "outputs": [
    {
     "data": {
      "text/plain": [
       "True"
      ]
     },
     "execution_count": 136,
     "metadata": {},
     "output_type": "execute_result"
    }
   ],
   "source": [
    "# Stings compare alphabetically\n",
    "\"cats\" < \"dogs\""
   ]
  },
  {
   "cell_type": "code",
   "execution_count": 137,
   "metadata": {},
   "outputs": [
    {
     "data": {
      "text/plain": [
       "True"
      ]
     },
     "execution_count": 137,
     "metadata": {},
     "output_type": "execute_result"
    }
   ],
   "source": [
    "# Shorter words occur earlier than longer words that have matching letters\n",
    "\"cat\" < \"catastrophe\""
   ]
  },
  {
   "cell_type": "markdown",
   "metadata": {},
   "source": [
    "## More string manipulation"
   ]
  },
  {
   "cell_type": "markdown",
   "metadata": {},
   "source": [
    "### 1. Checking string properties\n",
    "\n",
    "There are also many functions to check properties of strings including:\n",
    "\n",
    "- `isalnum()`: Returns True if all characters in the string are alphanumeric\n",
    "- `isalpha()`: Returns True if all characters in the string are in the alphabet\n",
    "- `isnumeric()`: Returns True if all characters in the string are numeric\n",
    "\n",
    "- `isspace()`: Returns True if all characters in the string are whitespaces\n",
    "\n",
    "- `islower()`: Returns True if all characters in the string are lower case\n",
    "- `isupper()`:Returns True if all characters in the string are upper case\n",
    "- `istitle()`: Returns True if the string follows the rules of a title\n",
    "\n",
    "Let's test some of these methods out...\n"
   ]
  },
  {
   "cell_type": "code",
   "execution_count": 138,
   "metadata": {},
   "outputs": [
    {
     "data": {
      "text/plain": [
       "False"
      ]
     },
     "execution_count": 138,
     "metadata": {},
     "output_type": "execute_result"
    }
   ],
   "source": [
    "# Checking if a string is all letters\n",
    "\n",
    "\"abc\".isalpha()\n",
    "\n",
    "\"abc123\".isalpha()\n"
   ]
  },
  {
   "cell_type": "code",
   "execution_count": 139,
   "metadata": {},
   "outputs": [
    {
     "data": {
      "text/plain": [
       "True"
      ]
     },
     "execution_count": 139,
     "metadata": {},
     "output_type": "execute_result"
    }
   ],
   "source": [
    "# Checking if a string is all numbers\n",
    "\n",
    "\"123\".isnumeric()"
   ]
  },
  {
   "cell_type": "code",
   "execution_count": 140,
   "metadata": {},
   "outputs": [
    {
     "data": {
      "text/plain": [
       "True"
      ]
     },
     "execution_count": 140,
     "metadata": {},
     "output_type": "execute_result"
    }
   ],
   "source": [
    "# Checking if a string only contains spaces\n",
    "\n",
    "\"   \".isspace()\n",
    "\n",
    "\"\\n\".isspace()   # also works for new line characters \\n, and tables \\t"
   ]
  },
  {
   "cell_type": "code",
   "execution_count": 141,
   "metadata": {},
   "outputs": [
    {
     "data": {
      "text/plain": [
       "True"
      ]
     },
     "execution_count": 141,
     "metadata": {},
     "output_type": "execute_result"
    }
   ],
   "source": [
    "# Checking if a string is upper case\n",
    "\n",
    "\"I AM NOT YELLILNG!!!\".isupper()"
   ]
  },
  {
   "cell_type": "markdown",
   "metadata": {},
   "source": [
    "### 2. String padding\n",
    "\n",
    "Often we want to remove extra spaces (called \"white space\") from the front or end of a string. Or conversely, sometimes we want to add extra spaces to make a set of strings the same length (this is known as \"string padding\"). \n",
    "\n",
    "Python strings have a number of methods that can pad/trim strings including: \n",
    "\n",
    "- `strip()`: Returns a trimmed version of the string (i.e., with no leading or trailing white space). \n",
    "- `center(num)`: Returns a centered string (with equal padding on both sides)\n",
    "- `zfill(num)`: Fills the string with a specified number of 0 values at the beginning\n",
    "\n",
    "Let's use a modified version of Melville quote to explore this\n"
   ]
  },
  {
   "cell_type": "code",
   "execution_count": 142,
   "metadata": {},
   "outputs": [
    {
     "data": {
      "text/plain": [
       "'    a whale ship was my Yale College and my Harvard   '"
      ]
     },
     "execution_count": 142,
     "metadata": {},
     "output_type": "execute_result"
    }
   ],
   "source": [
    "melville_quote2 = \"    a whale ship was my Yale College and my Harvard   \"\n",
    "melville_quote2"
   ]
  },
  {
   "cell_type": "code",
   "execution_count": 143,
   "metadata": {},
   "outputs": [
    {
     "data": {
      "text/plain": [
       "'a whale ship was my Yale College and my Harvard'"
      ]
     },
     "execution_count": 143,
     "metadata": {},
     "output_type": "execute_result"
    }
   ],
   "source": [
    "# Strip the white space\n",
    "melville_quote2.strip()"
   ]
  },
  {
   "cell_type": "code",
   "execution_count": 144,
   "metadata": {},
   "outputs": [
    {
     "data": {
      "text/plain": [
       "'           A whale ship was my Yale College and my Harvard.           '"
      ]
     },
     "execution_count": 144,
     "metadata": {},
     "output_type": "execute_result"
    }
   ],
   "source": [
    "# Center the quote by padding with white space \n",
    "# to have a total of 70 characters\n",
    "melville_quote = \"A whale ship was my Yale College and my Harvard.\"\n",
    "melville_quote.center(70)\n"
   ]
  },
  {
   "cell_type": "code",
   "execution_count": 145,
   "metadata": {},
   "outputs": [
    {
     "data": {
      "text/plain": [
       "'007'"
      ]
     },
     "execution_count": 145,
     "metadata": {},
     "output_type": "execute_result"
    }
   ],
   "source": [
    "# Make a number have leading 0's \n",
    "# Q: Why/when is this useful?\n",
    "\n",
    "\"7\".zfill(3)\n"
   ]
  },
  {
   "cell_type": "markdown",
   "metadata": {},
   "source": [
    "### 3. Filling in strings with particular values\n",
    "\n",
    "There are a number of ways to fill in strings parts of a string with particular values. Perhaps the most useful is to use \"f strings\", which have the following syntax such as: \n",
    "\n",
    "`f\"my string {value_to_fill} will be filled in\"`.\n",
    "\n",
    "Where the value of the variable `value_to_fill` will be filled into the string. \n",
    "\n",
    "Let's try it out... \n"
   ]
  },
  {
   "cell_type": "code",
   "execution_count": 146,
   "metadata": {},
   "outputs": [
    {
     "data": {
      "text/plain": [
       "'Mr. Herman Melville liked writing about whales.'"
      ]
     },
     "execution_count": 146,
     "metadata": {},
     "output_type": "execute_result"
    }
   ],
   "source": [
    "# Let's use an f-string\n",
    "\n",
    "person = \"Herman Melville\"\n",
    "\n",
    "f\"Mr. {person} liked writing about whales.\"\n",
    "\n"
   ]
  },
  {
   "cell_type": "code",
   "execution_count": 147,
   "metadata": {},
   "outputs": [
    {
     "data": {
      "text/plain": [
       "'$123,000.00 is a lot of money!'"
      ]
     },
     "execution_count": 147,
     "metadata": {},
     "output_type": "execute_result"
    }
   ],
   "source": [
    "# We can also do formatting with f-strings\n",
    "\n",
    "amount = 123000\n",
    "f\"${amount:,.2f} is a lot of money!\""
   ]
  },
  {
   "cell_type": "markdown",
   "metadata": {},
   "source": [
    "# Descriptive statistics and plot"
   ]
  },
  {
   "cell_type": "markdown",
   "metadata": {},
   "source": [
    "## Motivation: The Bechdel Test \n",
    "\n",
    "The dataset we will use has information about movies, including whether each movie passed the [Bechdel test](https://en.wikipedia.org/wiki/Bechdel_test). \n",
    "\n",
    "The data comes from fivethirtyeight. For more information see: \n",
    "- https://fivethirtyeight.com/features/the-dollar-and-cents-case-against-hollywoods-exclusion-of-women/\n",
    "- https://github.com/fivethirtyeight/data/tree/master/bechdel\n",
    "- https://github.com/rfordatascience/tidytuesday/blob/master/data/2021/2021-03-09/readme.md\n",
    "\n",
    "The code below loads the data and shows some of the data as a \"pandas DataFrame\" (we will discuss these DataFrames in a few weeks). \n"
   ]
  },
  {
   "cell_type": "code",
   "execution_count": 148,
   "metadata": {},
   "outputs": [
    {
     "data": {
      "text/html": [
       "<div>\n",
       "<style scoped>\n",
       "    .dataframe tbody tr th:only-of-type {\n",
       "        vertical-align: middle;\n",
       "    }\n",
       "\n",
       "    .dataframe tbody tr th {\n",
       "        vertical-align: top;\n",
       "    }\n",
       "\n",
       "    .dataframe thead th {\n",
       "        text-align: right;\n",
       "    }\n",
       "</style>\n",
       "<table border=\"1\" class=\"dataframe\">\n",
       "  <thead>\n",
       "    <tr style=\"text-align: right;\">\n",
       "      <th></th>\n",
       "      <th>year</th>\n",
       "      <th>imdb</th>\n",
       "      <th>title</th>\n",
       "      <th>clean_test</th>\n",
       "      <th>binary</th>\n",
       "      <th>budget</th>\n",
       "      <th>domgross</th>\n",
       "      <th>budget_2013</th>\n",
       "      <th>domgross_2013</th>\n",
       "      <th>decade_code</th>\n",
       "      <th>imdb_id</th>\n",
       "      <th>rated</th>\n",
       "      <th>imdb_rating</th>\n",
       "      <th>runtime</th>\n",
       "      <th>imdb_votes</th>\n",
       "    </tr>\n",
       "  </thead>\n",
       "  <tbody>\n",
       "    <tr>\n",
       "      <th>0</th>\n",
       "      <td>2013</td>\n",
       "      <td>tt1711425</td>\n",
       "      <td>21 &amp;amp; Over</td>\n",
       "      <td>notalk</td>\n",
       "      <td>FAIL</td>\n",
       "      <td>13000000</td>\n",
       "      <td>25682380.0</td>\n",
       "      <td>13000000</td>\n",
       "      <td>25682380.0</td>\n",
       "      <td>1.0</td>\n",
       "      <td>1711425</td>\n",
       "      <td>NaN</td>\n",
       "      <td>NaN</td>\n",
       "      <td>NaN</td>\n",
       "      <td>NaN</td>\n",
       "    </tr>\n",
       "    <tr>\n",
       "      <th>1</th>\n",
       "      <td>2012</td>\n",
       "      <td>tt1343727</td>\n",
       "      <td>Dredd 3D</td>\n",
       "      <td>ok</td>\n",
       "      <td>PASS</td>\n",
       "      <td>45000000</td>\n",
       "      <td>13414714.0</td>\n",
       "      <td>45658735</td>\n",
       "      <td>13611086.0</td>\n",
       "      <td>1.0</td>\n",
       "      <td>1343727</td>\n",
       "      <td>NaN</td>\n",
       "      <td>NaN</td>\n",
       "      <td>NaN</td>\n",
       "      <td>NaN</td>\n",
       "    </tr>\n",
       "    <tr>\n",
       "      <th>2</th>\n",
       "      <td>2013</td>\n",
       "      <td>tt2024544</td>\n",
       "      <td>12 Years a Slave</td>\n",
       "      <td>notalk</td>\n",
       "      <td>FAIL</td>\n",
       "      <td>20000000</td>\n",
       "      <td>53107035.0</td>\n",
       "      <td>20000000</td>\n",
       "      <td>53107035.0</td>\n",
       "      <td>1.0</td>\n",
       "      <td>2024544</td>\n",
       "      <td>R</td>\n",
       "      <td>8.3</td>\n",
       "      <td>134 min</td>\n",
       "      <td>143,446</td>\n",
       "    </tr>\n",
       "    <tr>\n",
       "      <th>3</th>\n",
       "      <td>2013</td>\n",
       "      <td>tt1272878</td>\n",
       "      <td>2 Guns</td>\n",
       "      <td>notalk</td>\n",
       "      <td>FAIL</td>\n",
       "      <td>61000000</td>\n",
       "      <td>75612460.0</td>\n",
       "      <td>61000000</td>\n",
       "      <td>75612460.0</td>\n",
       "      <td>1.0</td>\n",
       "      <td>1272878</td>\n",
       "      <td>R</td>\n",
       "      <td>6.8</td>\n",
       "      <td>109 min</td>\n",
       "      <td>87,301</td>\n",
       "    </tr>\n",
       "    <tr>\n",
       "      <th>4</th>\n",
       "      <td>2013</td>\n",
       "      <td>tt0453562</td>\n",
       "      <td>42</td>\n",
       "      <td>men</td>\n",
       "      <td>FAIL</td>\n",
       "      <td>40000000</td>\n",
       "      <td>95020213.0</td>\n",
       "      <td>40000000</td>\n",
       "      <td>95020213.0</td>\n",
       "      <td>1.0</td>\n",
       "      <td>453562</td>\n",
       "      <td>PG-13</td>\n",
       "      <td>7.6</td>\n",
       "      <td>128 min</td>\n",
       "      <td>43,608</td>\n",
       "    </tr>\n",
       "  </tbody>\n",
       "</table>\n",
       "</div>"
      ],
      "text/plain": [
       "   year       imdb             title clean_test binary    budget    domgross  \\\n",
       "0  2013  tt1711425     21 &amp; Over     notalk   FAIL  13000000  25682380.0   \n",
       "1  2012  tt1343727          Dredd 3D         ok   PASS  45000000  13414714.0   \n",
       "2  2013  tt2024544  12 Years a Slave     notalk   FAIL  20000000  53107035.0   \n",
       "3  2013  tt1272878            2 Guns     notalk   FAIL  61000000  75612460.0   \n",
       "4  2013  tt0453562                42        men   FAIL  40000000  95020213.0   \n",
       "\n",
       "   budget_2013  domgross_2013  decade_code  imdb_id  rated  imdb_rating  \\\n",
       "0     13000000     25682380.0          1.0  1711425    NaN          NaN   \n",
       "1     45658735     13611086.0          1.0  1343727    NaN          NaN   \n",
       "2     20000000     53107035.0          1.0  2024544      R          8.3   \n",
       "3     61000000     75612460.0          1.0  1272878      R          6.8   \n",
       "4     40000000     95020213.0          1.0   453562  PG-13          7.6   \n",
       "\n",
       "   runtime imdb_votes  \n",
       "0      NaN        NaN  \n",
       "1      NaN        NaN  \n",
       "2  134 min    143,446  \n",
       "3  109 min     87,301  \n",
       "4  128 min     43,608  "
      ]
     },
     "execution_count": 148,
     "metadata": {},
     "output_type": "execute_result"
    }
   ],
   "source": [
    "import pandas as pd\n",
    "\n",
    "movies = pd.read_csv(\"movies.csv\")\n",
    "col_names_to_keep = ['year', 'imdb', 'title', 'clean_test', 'binary', 'budget',\n",
    "       'domgross', 'budget_2013', 'domgross_2013', 'decade_code', 'imdb_id',\n",
    "       'rated', 'imdb_rating', 'runtime',  'imdb_votes']\n",
    "movies =   movies[col_names_to_keep]\n",
    "\n",
    "movies.dropna(axis = 0, how = 'any', inplace = True, subset=col_names_to_keep[0:9])\n",
    "\n",
    "movies.head()\n"
   ]
  },
  {
   "cell_type": "markdown",
   "metadata": {},
   "source": [
    "## Categorical data: statistics \n",
    "\n",
    "Categorical data is data that falls into different categories. \n",
    "- The main statistic we can calculate on categorical data is the **proportion** that is in a particular category. \n",
    "- We can visualize categorical data using bar plots and pie plots. \n",
    "\n",
    "Let's explore this using Bechdel Test data looking at the following lists that are created below: \n",
    "\n",
    "1. `title`: Contains the title of each movie\n",
    "2. `bechdel`: Lists whether a movie passed (\"PASS\") or failed (\"FAIL\") the bechdel test\n",
    "3. `bechdel_reason`: Lists the reason why a movie failed (or passed) the Bechdel test\n"
   ]
  },
  {
   "cell_type": "code",
   "execution_count": 149,
   "metadata": {},
   "outputs": [],
   "source": [
    "# get this for the categorical data analysis\n",
    "title = movies[\"title\"].to_list()\n",
    "bechdel = movies[\"binary\"].to_list()\n",
    "bechdel_reason = movies[\"clean_test\"].to_list()"
   ]
  },
  {
   "cell_type": "code",
   "execution_count": 150,
   "metadata": {},
   "outputs": [
    {
     "name": "stdout",
     "output_type": "stream",
     "text": [
      "['21 &amp; Over', 'Dredd 3D', '12 Years a Slave', '2 Guns', '42']\n",
      "['FAIL', 'PASS', 'FAIL', 'FAIL', 'FAIL']\n",
      "['notalk', 'ok', 'notalk', 'notalk', 'men']\n"
     ]
    }
   ],
   "source": [
    "# View the first 5 entries of our title, bechdel, and bechdel_reason lists\n",
    "\n",
    "print(title[0:5])\n",
    "\n",
    "print(bechdel[0:5])\n",
    "\n",
    "print(bechdel_reason[0:5])\n"
   ]
  },
  {
   "cell_type": "code",
   "execution_count": 151,
   "metadata": {},
   "outputs": [
    {
     "name": "stdout",
     "output_type": "stream",
     "text": [
      "794\n"
     ]
    }
   ],
   "source": [
    "# How many of the movies in the data set passed the Bechdel test? \n",
    "\n",
    "num_passed = bechdel.count(\"PASS\")\n",
    "print(num_passed)\n"
   ]
  },
  {
   "cell_type": "code",
   "execution_count": 152,
   "metadata": {},
   "outputs": [
    {
     "name": "stdout",
     "output_type": "stream",
     "text": [
      "982\n"
     ]
    }
   ],
   "source": [
    "# How many of the movies in the data set failed the Bechdel test? \n",
    "\n",
    "num_failed = bechdel.count(\"FAIL\")\n",
    "print(num_failed)"
   ]
  },
  {
   "cell_type": "code",
   "execution_count": 153,
   "metadata": {},
   "outputs": [
    {
     "data": {
      "text/plain": [
       "True"
      ]
     },
     "execution_count": 153,
     "metadata": {},
     "output_type": "execute_result"
    }
   ],
   "source": [
    "# Sanity check that all movies either PASS or FAIL\n",
    "\n",
    "num_passed + num_failed == len(bechdel)\n"
   ]
  },
  {
   "cell_type": "code",
   "execution_count": 154,
   "metadata": {},
   "outputs": [
    {
     "data": {
      "text/plain": [
       "0.44707207207207206"
      ]
     },
     "execution_count": 154,
     "metadata": {},
     "output_type": "execute_result"
    }
   ],
   "source": [
    "# What is the proportion of movies passed the Bechdel test? \n",
    "\n",
    "bechdel.count(\"PASS\")/len(bechdel)\n"
   ]
  },
  {
   "cell_type": "markdown",
   "metadata": {},
   "source": [
    "Let's use the `bechdel_reason` list to create a list called `reason_counts` that has the following 5 values:\n",
    "1. The number of movies where women do not talk (\"notalk\")\n",
    "2. The number of movies where women only talk about men (\"men\")\n",
    "3. The number of movies that did not have two women (\"nowomen\")\n",
    "4. The number of movies where it is not clear that the movie passed the Bechdel test for multiple reasons (\"dubious\")\n",
    "5. The number of movies that passed the bechdel test (\"ok\")"
   ]
  },
  {
   "cell_type": "code",
   "execution_count": 155,
   "metadata": {},
   "outputs": [
    {
     "data": {
      "text/plain": [
       "[510, 193, 138, 141, 794]"
      ]
     },
     "execution_count": 155,
     "metadata": {},
     "output_type": "execute_result"
    }
   ],
   "source": [
    "# Let's create a list called \"reason_counts\" that has the number of movies that \n",
    "\n",
    "reason_counts = [bechdel_reason.count(\"notalk\"), \n",
    "                 bechdel_reason.count(\"men\"), \n",
    "                 bechdel_reason.count(\"nowomen\"),\n",
    "                 bechdel_reason.count(\"dubious\"),\n",
    "                 bechdel_reason.count(\"ok\")]\n",
    "\n",
    "reason_counts"
   ]
  },
  {
   "cell_type": "code",
   "execution_count": 156,
   "metadata": {},
   "outputs": [
    {
     "data": {
      "text/plain": [
       "[\"Did't talk\", 'Talked men', '<2 women', 'Dubious', 'Passed']"
      ]
     },
     "execution_count": 156,
     "metadata": {},
     "output_type": "execute_result"
    }
   ],
   "source": [
    "# The code below creates a list of strings describing reasons why movies did not pass the Bechdel test\n",
    "reason_names = [\"Did't talk\", \"Talked men\", \"<2 women\",  \"Dubious\", \"Passed\"]\n",
    "reason_names"
   ]
  },
  {
   "cell_type": "markdown",
   "metadata": {},
   "source": [
    "## Categorical data: plots\n",
    "\n",
    "We can use the matplotlib package to visual data. For categorical data, our main visualizations are the pie chart and the bar graph. \n"
   ]
  },
  {
   "cell_type": "code",
   "execution_count": 157,
   "metadata": {},
   "outputs": [],
   "source": [
    "# We can use matplotlib to visualize the data.. \n",
    "\n",
    "import matplotlib.pyplot as plt\n",
    "%matplotlib inline\n"
   ]
  },
  {
   "cell_type": "code",
   "execution_count": 158,
   "metadata": {},
   "outputs": [
    {
     "data": {
      "image/png": "[encoded data removed]",
      "text/plain": [
       "<Figure size 640x480 with 1 Axes>"
      ]
     },
     "metadata": {},
     "output_type": "display_data"
    }
   ],
   "source": [
    "# Let's create a pie chart \n",
    "\n",
    "plt.pie(reason_counts);\n"
   ]
  },
  {
   "cell_type": "code",
   "execution_count": 159,
   "metadata": {},
   "outputs": [
    {
     "data": {
      "image/png": "[encoded data removed]",
      "text/plain": [
       "<Figure size 640x480 with 1 Axes>"
      ]
     },
     "metadata": {},
     "output_type": "display_data"
    }
   ],
   "source": [
    "# Let's add names to the each section of the pie chart\n",
    "\n",
    "plt.pie(reason_counts, labels= reason_names);\n"
   ]
  },
  {
   "cell_type": "code",
   "execution_count": 160,
   "metadata": {},
   "outputs": [
    {
     "data": {
      "image/png": "[encoded data removed]",
      "text/plain": [
       "<Figure size 640x480 with 1 Axes>"
      ]
     },
     "metadata": {},
     "output_type": "display_data"
    }
   ],
   "source": [
    "# Let's create a bar chart of how many players there are at each position\n",
    "plt.bar(reason_names, reason_counts);\n"
   ]
  },
  {
   "cell_type": "markdown",
   "metadata": {},
   "source": [
    "### What is wrong with this plot???\n",
    "\n",
    "See: https://xkcd.com/833/\n"
   ]
  },
  {
   "cell_type": "code",
   "execution_count": 161,
   "metadata": {},
   "outputs": [
    {
     "data": {
      "image/png": "[encoded data removed]",
      "text/plain": [
       "<Figure size 640x480 with 1 Axes>"
      ]
     },
     "metadata": {},
     "output_type": "display_data"
    }
   ],
   "source": [
    "# Let's make a better version of the bar plot!\n",
    "\n",
    "plt.bar(reason_names, reason_counts);\n",
    "plt.ylabel(\"Number of Movies\");\n",
    "plt.xlabel(\"Reason for failing Bechdel test\");\n"
   ]
  },
  {
   "cell_type": "markdown",
   "metadata": {},
   "source": [
    "## Quantitative data: statistics and plots\n",
    "\n",
    "Quantitative data is numeric data (e.g., ints and floats).\n",
    "- We can visualize quantitative data using histograms and boxplots. \n",
    "- The main statistics we use to sumarize the central tendency of quantitative data are the mean and the median.  \n",
    "\n",
    "Let's explore this by looking at data on movies. In particular, we will look at the following variables:\n",
    "- `domgross_2013`: The amount of money a movie made at the box office (in 2013 inflation adjusted dollars)\n",
    "- `domgross_2013`: The amount of money spent making the movie (in 2013 inflation adjusted dollars)\n",
    "- `year`: The year the movie was made. \n"
   ]
  },
  {
   "cell_type": "code",
   "execution_count": 162,
   "metadata": {},
   "outputs": [],
   "source": [
    "# get these later with the quantitative data section\n",
    "domgross_2013 = movies[\"domgross_2013\"].to_list()\n",
    "budget_2013 = movies[\"budget_2013\"].to_list() \n",
    "year = movies[\"year\"].to_list()"
   ]
  },
  {
   "cell_type": "code",
   "execution_count": 163,
   "metadata": {},
   "outputs": [
    {
     "data": {
      "image/png": "[encoded data removed]",
      "text/plain": [
       "<Figure size 640x480 with 1 Axes>"
      ]
     },
     "metadata": {},
     "output_type": "display_data"
    }
   ],
   "source": [
    "# plot a histogram of movie revenues\n",
    "plt.hist(domgross_2013, edgecolor = \"k\", bins = 40);\n",
    "plt.ylabel(\"Count\")\n",
    "plt.xlabel(\"Revenue ($)\");"
   ]
  },
  {
   "cell_type": "code",
   "execution_count": 164,
   "metadata": {},
   "outputs": [
    {
     "data": {
      "text/plain": [
       "'The average revenue of movies is 95,174,784'"
      ]
     },
     "execution_count": 164,
     "metadata": {},
     "output_type": "execute_result"
    }
   ],
   "source": [
    "# What is the average movie revenue?\n",
    "tot_revenue = sum(domgross_2013)\n",
    "ave_revenue = tot_revenue/len(domgross_2013)\n",
    "f\"The average revenue of movies is {ave_revenue:,.0f}\""
   ]
  },
  {
   "cell_type": "code",
   "execution_count": 165,
   "metadata": {},
   "outputs": [],
   "source": [
    "# we can also use the statistics module to calculate statistics \n",
    "import statistics\n"
   ]
  },
  {
   "cell_type": "code",
   "execution_count": 166,
   "metadata": {},
   "outputs": [
    {
     "data": {
      "text/plain": [
       "95174783.57601352"
      ]
     },
     "execution_count": 166,
     "metadata": {},
     "output_type": "execute_result"
    }
   ],
   "source": [
    "# get the mean using the statistics package\n",
    "statistics.mean(domgross_2013)\n"
   ]
  },
  {
   "cell_type": "code",
   "execution_count": 167,
   "metadata": {},
   "outputs": [
    {
     "data": {
      "text/plain": [
       "55993640.5"
      ]
     },
     "execution_count": 167,
     "metadata": {},
     "output_type": "execute_result"
    }
   ],
   "source": [
    "# get the median using the statistics package\n",
    "statistics.median(domgross_2013)\n"
   ]
  },
  {
   "cell_type": "code",
   "execution_count": 168,
   "metadata": {},
   "outputs": [
    {
     "data": {
      "image/png": "[encoded data removed]",
      "text/plain": [
       "<Figure size 640x480 with 1 Axes>"
      ]
     },
     "metadata": {},
     "output_type": "display_data"
    }
   ],
   "source": [
    "# plot the mean and the median on top of a histogram of salaries\n",
    "\n",
    "plt.hist(domgross_2013, edgecolor = \"k\");\n",
    "plt.ylabel(\"Count\")\n",
    "plt.xlabel(\"Revenue ($)\");\n",
    "\n",
    "plt.axvline(statistics.mean(domgross_2013), color='r', linestyle='dashed', linewidth=1, label = \"Mean\");\n",
    "plt.axvline(statistics.median(domgross_2013), color='b', linestyle='dashed', linewidth=1, label = \"Median\");\n",
    "plt.legend();\n"
   ]
  },
  {
   "cell_type": "markdown",
   "metadata": {},
   "source": [
    "### Why is the mean larger than the median? \n"
   ]
  },
  {
   "cell_type": "code",
   "execution_count": 169,
   "metadata": {},
   "outputs": [],
   "source": [
    "# Some fake data\n",
    "my_data = [2, 3, 5, 7, 100000]\n"
   ]
  },
  {
   "cell_type": "code",
   "execution_count": 170,
   "metadata": {},
   "outputs": [
    {
     "data": {
      "text/plain": [
       "20003.4"
      ]
     },
     "execution_count": 170,
     "metadata": {},
     "output_type": "execute_result"
    }
   ],
   "source": [
    "# Get the mean \n",
    "statistics.mean(my_data)\n"
   ]
  },
  {
   "cell_type": "code",
   "execution_count": 171,
   "metadata": {},
   "outputs": [
    {
     "data": {
      "text/plain": [
       "5"
      ]
     },
     "execution_count": 171,
     "metadata": {},
     "output_type": "execute_result"
    }
   ],
   "source": [
    "# Get the median\n",
    "statistics.median(my_data)\n"
   ]
  },
  {
   "cell_type": "markdown",
   "metadata": {},
   "source": [
    "## Outliers\n",
    "\n",
    "Outliers are values that are much larger or smaller than the rest of the data. When an outlier occurs in a dataset we should investigate what might be causing the outlier.\n",
    "- If it is due to a mistake (e.g., a data entry error) we can remove the outlier from our data.\n",
    "- If it is a real value, we should understand how the value will impact our conclusions. \n",
    "\n",
    "Let's see if we can find the outlier in our movie revenue data. In particular, let's do the following:\n",
    "\n",
    "1. We will use the `max()` to find the movie that had the highest revenue in the `domgross_2013` list\n",
    "2. We will then use the `list.index()` method to find the index where this value occurs in the `domgross_2013` list\n",
    "3. We can the use this index in the `title` list to get the movie title that has the maximum revenue\n",
    "\n"
   ]
  },
  {
   "cell_type": "code",
   "execution_count": 172,
   "metadata": {},
   "outputs": [
    {
     "name": "stdout",
     "output_type": "stream",
     "text": [
      "1742\n",
      "Star Wars\n"
     ]
    }
   ],
   "source": [
    "# Movie that had the highest revenue\n",
    "max_revenue = max(domgross_2013)\n",
    "\n",
    "# The index of where the highest revenue appears in the domgross_2013 list\n",
    "index_max_revenue = domgross_2013.index(max_revenue)\n",
    "\n",
    "# Print the index\n",
    "print(index_max_revenue)\n",
    "\n",
    "# Print the title of the movie at the corresponding index\n",
    "print(title[index_max_revenue])\n",
    "\n"
   ]
  },
  {
   "cell_type": "markdown",
   "metadata": {},
   "source": [
    "## Meassures of spread: standard deviation and z-scores\n",
    "\n",
    "Above we looked a measures of central, namely the mean and the median. Let's now look at statistics that measure how widely data is spread away from the mean. In particular, we will look at a commonly used measure called *the standard deviation* which is defined as:\n",
    "\n",
    "$ s = \\frac{1}{n-1}\\sum_{i =1}^n (x_i - \\bar{x})^2$\n",
    "\n",
    "Where:\n",
    "- $n$ is the number of data points you have\n",
    "- $x_i$ is the $i^{th}$ data point\n",
    "- $\\bar{x}$ is the mean of the data\n",
    "\n",
    "In Python, we can use the `stdev()` function from the statistics module to get the standard deviation\n",
    "\n"
   ]
  },
  {
   "cell_type": "code",
   "execution_count": 173,
   "metadata": {},
   "outputs": [
    {
     "data": {
      "text/plain": [
       "125965348.89270209"
      ]
     },
     "execution_count": 173,
     "metadata": {},
     "output_type": "execute_result"
    }
   ],
   "source": [
    "# Get the standard deviation of movie revenue\n",
    "\n",
    "statistics.stdev(domgross_2013)"
   ]
  },
  {
   "cell_type": "markdown",
   "metadata": {},
   "source": [
    "## z-scores \n",
    "\n",
    "Z-scores are used assess how many standard deviations a value is above or below the mean. Z-scores are defined as:\n",
    "\n",
    "$z = \\frac{x_i - \\bar{x}}{s_x}$\n",
    "\n",
    "Where:\n",
    "- $\\bar{x}$ is the mean of the data\n",
    "- $x_s$ is the standard deviation of the data\n"
   ]
  },
  {
   "cell_type": "code",
   "execution_count": 174,
   "metadata": {},
   "outputs": [
    {
     "name": "stdout",
     "output_type": "stream",
     "text": [
      "Shooting % z-score: 0.868\n",
      "Points  z-score: 2.698\n",
      "Assists  z-score: 1.965\n",
      "Steals  z-score: 1.771\n"
     ]
    }
   ],
   "source": [
    "# Calculate LeBron James' z-scores\n",
    "\n",
    "z_FGPct = (0.510  -  0.464)/0.053\n",
    "z_Points = (2111 - \t994)/414\n",
    "z_Assists\t =  \t(554 - 220)/170\t\t\n",
    "z_Steals\t =\t(124 -  68.2)/31.5\n",
    "\n",
    "print(f\"Shooting % z-score: {z_FGPct:.3f}\")\n",
    "print(f\"Points  z-score: {z_Points:.3f}\")\n",
    "print(f\"Assists  z-score: {z_Assists:.3f}\")\n",
    "print(f\"Steals  z-score: {z_Steals:.3f}\")\n"
   ]
  },
  {
   "cell_type": "code",
   "execution_count": 175,
   "metadata": {},
   "outputs": [
    {
     "name": "stdout",
     "output_type": "stream",
     "text": [
      "1771682790.0\n"
     ]
    },
    {
     "data": {
      "text/plain": [
       "13.309279267364586"
      ]
     },
     "execution_count": 175,
     "metadata": {},
     "output_type": "execute_result"
    }
   ],
   "source": [
    "# calculate z-sccore for star wars revenue (domgross_2013)\n",
    "\n",
    "# Revenue of star wars\n",
    "starwars_value = max(domgross_2013)\n",
    "\n",
    "print(starwars_value)\n",
    "\n",
    "# mean of all movies\n",
    "movie_mean = statistics.mean(domgross_2013)\n",
    "\n",
    "# standard deviation of all movies\n",
    "movie_stdev = statistics.stdev(domgross_2013)\n",
    "\n",
    "# star wars z-score\n",
    "zscore_starwars = (starwars_value - movie_mean)/movie_stdev\n",
    "\n",
    "zscore_starwars"
   ]
  },
  {
   "cell_type": "markdown",
   "metadata": {},
   "source": [
    "## Visualizing two quantitative variables\n",
    "\n",
    "Let's create a scatter plot to visualize the relationship between a movies budget and the movie revenue made. \n",
    "\n",
    "Based on looking at this plot:\n",
    "1. Does it appear that movies with larger budgets make more money at the box office?\n",
    "2. What do you think the correlation is between buget and revenue? \n"
   ]
  },
  {
   "cell_type": "code",
   "execution_count": 176,
   "metadata": {},
   "outputs": [
    {
     "data": {
      "image/png": "[encoded data removed]",
      "text/plain": [
       "<Figure size 640x480 with 1 Axes>"
      ]
     },
     "metadata": {},
     "output_type": "display_data"
    }
   ],
   "source": [
    "# plot revenue as a function of budget\n",
    "\n",
    "plt.plot(budget_2013, domgross_2013, '.');\n",
    "plt.ylabel(\"Budget ($)\");\n",
    "plt.xlabel(\"Revenue ($)\");"
   ]
  },
  {
   "cell_type": "code",
   "execution_count": 177,
   "metadata": {},
   "outputs": [
    {
     "data": {
      "text/plain": [
       "0.46126114596466505"
      ]
     },
     "execution_count": 177,
     "metadata": {},
     "output_type": "execute_result"
    }
   ],
   "source": [
    "# Calculate the correlation \n",
    "\n",
    "statistics.correlation(budget_2013, domgross_2013)"
   ]
  }
 ],
 "metadata": {
  "anaconda-cloud": {},
  "kernelspec": {
   "display_name": "Python [conda env:ydata123_env_2024a] *",
   "language": "python",
   "name": "conda-env-ydata123_env_2024a-py"
  },
  "language_info": {
   "codemirror_mode": {
    "name": "ipython",
    "version": 3
   },
   "file_extension": ".py",
   "mimetype": "text/x-python",
   "name": "python",
   "nbconvert_exporter": "python",
   "pygments_lexer": "ipython3",
   "version": "3.12.4"
  }
 },
 "nbformat": 4,
 "nbformat_minor": 4
}
